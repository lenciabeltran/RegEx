{
 "cells": [
  {
   "cell_type": "markdown",
   "id": "020c55a0-3a5b-4849-9207-ef492d575a1a",
   "metadata": {
    "tags": []
   },
   "source": [
    "# Regular Expressions\n",
    "\n",
    "## What is Regular Expressions?\n",
    "\n",
    "Regular expressions are special sequences of (meta)characters that define patterns for string matching. They are sometimes referred to as regexes, REs, or even regex patterns.Try to think about it in terms of, you have a dataset that consists of strings of sentences, or email addresses, etc. and you want to check if the data contains a specific pattern. You can quickly and (usually easily) do this by executing regex which will identify and retrieve the specified pattern if it exists.   \n",
    "\n",
    "\n",
    "## Why use it? \n",
    "Because it allows for a quick identification and retrieval of patterns in strings! Therefore, regex makes your life easier and facilitates question asking such as, “Does this string match the pattern?”, or “Is there a match for the pattern anywhere in this string?”. \n",
    "\n",
    "You can also use regex to modify a string or to split it apart in various ways.\n",
    "\n",
    "**Note**: It's good to keep in mind that with anything, there are sometimes some limitations based on a specific scenario. For example, the regular expression language is relatively small and restricted, so not all possible string processing tasks can be done using regular expressions. \n",
    "\n",
    "In some cases, you'll find writing out the full code is better and more understandable especially for others who are unfamiliar with the regex characters. \n"
   ]
  },
  {
   "cell_type": "markdown",
   "id": "b2397fde-6dfe-4a46-a044-4e9a38c25ad1",
   "metadata": {},
   "source": [
    "## Let's Get Started\n",
    "### Determine if a string matches\n",
    "\n",
    "There are a few ways to check if a string contains a specific substring. Let's take, for example, `'123'`. \n",
    "\n",
    "1. The `in` operator lets you check if a string contains a particular substring/pattern.\n",
    "\n",
    "~~~ python\n",
    "t = 'cod31srad'\n",
    "'31' in t\n",
    "True\n",
    "~~~ \n",
    "Now try '312'. What happens and why?\n",
    "\n",
    "\n",
    "2. The `.find()` and `.index()` will find the character position of the substring within a string.  \n",
    "\n",
    "~~~ python\n",
    "t = 'cod31srad'\n",
    "t.find('31')\n",
    "3\n",
    "~~~  \n",
    "\n",
    "~~~ python \n",
    "t = 'cod31srad'\n",
    "t.index('31')\n",
    "3\n",
    "~~~\n",
    "\n",
    "**Note**: the last two methods will only return the first character position of a substring within a given string. For example, the character position for `'31'` returns an index of `'3'`, but if we want to know the position of `'1'`, you would have to type only the `'1'` into the paranthesis which will return an index of `'4'`. \n",
    "\n",
    "But what if you don't want to search for a fixed substring because maybe you aren't too familiar with the data? How would you go about determining whether a string contains ***any*** of the digit characters (as used above) in other strings? \n",
    "\n",
    "This is where regex can start to be helpful! "
   ]
  },
  {
   "cell_type": "markdown",
   "id": "c9ad0e7e-cba3-4765-a26b-b93c4fc03d15",
   "metadata": {
    "tags": []
   },
   "source": [
    "## Access the re. module\n",
    "\n",
    "To access the regex functions and methods in Python you'll use the module named **`re.`**. \n",
    "\n",
    "**Import the **`re.`** module into your environment.**\n",
    "~~~ python \n",
    "import re\n",
    "~~~\n",
    "\n",
    "One widely used function in regex is **`search()`** . This method will scan a string for the first location of a defined pattern (ie., find the first location where the pattern **`<regex>`** matches).  \n",
    "\n",
    "The general syntax of the **`re.search()`** is: 1.) the **`re.`** module, 2.) the **`search()`**, 3.) the **`<regex>`** pattern, 4.) and the string. \n",
    "    \n",
    "**Basic syntax** \n",
    "~~~ python \n",
    "re.search(<regex>, <string>)\n",
    "~~~ \n",
    " \n",
    "If there is a match, then a matched object will be returned. If no match is found, then 'None' will be returned. The **`search()`** can take optional **`<flag>`** arguments - we'll touch on later, so stay tuned.\n"
   ]
  },
  {
   "cell_type": "markdown",
   "id": "59715e4a-f39f-411b-9574-3def59a05a67",
   "metadata": {
    "tags": []
   },
   "source": [
    "## Match a pattern re.search()\n",
    "\n",
    "### Import the re., search() function\n",
    "You can import the **`search()`** function in one of two ways. \n",
    "\n",
    "\n",
    "The first is to import the entire module, then use the module name as a prefix when calling the **`search()`**. \n",
    "\n",
    "1.) First approach\n",
    "~~~ python \n",
    "import re\n",
    "re.search(...)\n",
    "~~~\n",
    "\n",
    "The second is to import the function from the module by name, then refer to it without the module name prefix **`re.`**\n",
    "\n",
    "2.) Second approach\n",
    "~~~ python \n",
    "from re import search\n",
    "search(...)\n",
    "~~~\n",
    "\n",
    "Neither is better than the other, it really comes down to preference. I find it easier to use the first approach because it's necessary to import **`re.search()`** by one means or another before you can use it.  \n",
    "\n",
    "### Trying it out\n",
    "\n",
    "Take the example below. We have the **`<regex>`** search pattern `'31'` and the **`<string`>** `'t'`. The output returns a matched object, in essence the specified **`<regex>`** search pattern `'31'` is present in the **`<string`>** `'t'`. If there was ***no*** matched object, then the output would return **`None`**. \n",
    "\n",
    "~~~ python\n",
    "t = 'cod31srad'\n",
    "\n",
    "# remember to always import re!\n",
    "import re\n",
    "\n",
    "re.search('31', t)\n",
    "\n",
    "output: <re.Match object; span=(3, 5), match='31'>\n",
    "~~~ \n",
    "\n",
    "Since **`search()`** returns **`None`** when no match is found, it's easy to test whether there is a match using a simple if statement:\n",
    "\n",
    "~~~ python\n",
    "if re.search('31', t):\n",
    "    print('Found a match.')\n",
    "else:\n",
    "    print('No match.')\n",
    "\n",
    "output: Found a match.\n",
    "~~~ \n",
    "\n",
    "The output displays the match object as <kbd>`<re.Match object; span=(3, 5), match='31'>`</kbd>. <br>\n",
    "\n",
    "1.) <kbd>span=(3, 5)</kbd> returns the portion of **`<string>`** where the match was found (ie. this is the same process as if you were to do a slice notation <kbd>`t[3, 5]`</kbd>) <br>\n",
    "2.) <kbd>`match='31'`</kbd> specifies which characters from the  **`<string>`** matched. "
   ]
  },
  {
   "cell_type": "markdown",
   "id": "d832a7d7-631c-49bd-ac4c-8809c32d314e",
   "metadata": {
    "tags": []
   },
   "source": [
    "### Practice 1"
   ]
  },
  {
   "cell_type": "code",
   "execution_count": null,
   "id": "27479474-4a4c-4f04-8ce6-e5488793aa8e",
   "metadata": {},
   "outputs": [],
   "source": [
    "# try on your own!\n",
    "\n",
    "string = \"The quick brown fox jumps over the lazy dog.\"\n",
    "\n",
    "re.search('fox', string) "
   ]
  },
  {
   "cell_type": "markdown",
   "id": "7a7d34b6-5960-467a-85cf-fe70f571f9f7",
   "metadata": {
    "tags": []
   },
   "source": [
    "## Create a matching pattern\n",
    "\n",
    "Metacharacters are special characters that have unique meanings and enhance the capability of the regex matching search. \n",
    "\n",
    "Let's reconsider our original question about whether a string contains any three consecutive digits. We can quickly check our  **`<string>`** by placing a set of characters in square brackets `([])` to create a **character class**. \n",
    "\n",
    "In the example below, we can start to create an expression using `[0-9]` which matches any single digit character (ie., any character between '0' and '9'). We can make the full expression by using `[0-9][0-9]` which matches any sequence of two digit characters.\n",
    "\n",
    "### Regex metacharacters\n",
    "#### Matching a specific set of characters using character class\n",
    "1.) creating a character class `([])`\n",
    "~~~python \n",
    "t = 'cod31srad'\n",
    "import re\n",
    "re.search('[0-9][0-9]', t)\n",
    "\n",
    "output: <re.Match object; span=(3, 5), match='31'>\n",
    "~~~ \n",
    "\n",
    "We can see the expression also works for the following strings, but is restrictive to searches that contain **only** **two** **consecutive** digits.  \n",
    "~~~python\n",
    "import re\n",
    "re.search('[0-9][0-9]', 'book55')\n",
    "output: <re.Match object; span=(4, 6), match='55'>\n",
    "\n",
    "import re\n",
    "re.search('[0-9][0-9]', 'quote22')\n",
    "output: <re.Match object; span=(5, 7), match='22'>\n",
    "~~~\n",
    "\n",
    "1a.) character class limitation\n",
    "~~~python \n",
    "import re\n",
    "print(re.search('[0-9][0-9]', 'c0dei5fory0u'))\n",
    "output: None\n",
    "~~~\n",
    "#### dot `.` \n",
    "If we wanted to search for strings that contain digits in general we can apply the dot `.` metacharacter. The dot `.` metacharacter functions like a wildcard and matches any character except a newline. \n",
    "\n",
    "2.) creating regex search using a dot `.` metacharacter\n",
    "~~~python \n",
    "t = 'cod315rad'\n",
    "import re\n",
    "re.search('3.5', t)\n",
    "output: <re.Match object; span=(3, 6), match='315'>\n",
    "\n",
    "t = 'cod35rad'\n",
    "import re\n",
    "print(re.search('3.5', t))\n",
    "output: None\n",
    "~~~"
   ]
  },
  {
   "cell_type": "markdown",
   "id": "866ce83f-744b-429d-b11e-240edbc9544d",
   "metadata": {
    "jp-MarkdownHeadingCollapsed": true,
    "tags": []
   },
   "source": [
    "### Practice 2"
   ]
  },
  {
   "cell_type": "code",
   "execution_count": null,
   "id": "a0acc7a1-f398-4143-9983-351519020ae9",
   "metadata": {},
   "outputs": [],
   "source": [
    "### Try this on your own! \n",
    "string = \"The quick brown fox jumps over the lazy dog.\"\n",
    "\n",
    "re.search('\\.', string)"
   ]
  },
  {
   "cell_type": "markdown",
   "id": "c6e4bc38-e49c-4b7c-af9e-9194cc16ed16",
   "metadata": {
    "tags": []
   },
   "source": [
    "## Matching single characters\n",
    "\n",
    "~~~python\n",
    "[]\n",
    "\n",
    "#Specifies a specific set of characters to match\n",
    "~~~\n",
    "\n",
    "Character sequences contained in square brackets `([])` represent a character class and will match any single characters contained in the class.\n",
    "\n",
    "The metacharacter sequence `[artz]` will match any single 'a', 'r', 't', or 'z' character. Below, the regex `ba[artz]` matches both 'bat' and 'baz' (and would also match 'baa' and 'bar').\n",
    "\n",
    "~~~python \n",
    "re.search('ba[artz]', 'c0d3bats')\n",
    "output: <re.Match object; span=(4, 7), match='bat'>\n",
    "\n",
    "re.search('ba[artz]', 'c0d3bazz')\n",
    "output: <re.Match object; span=(4, 7), match='baz'>\n",
    "~~~\n",
    "\n",
    "A hyphen can also be used to match a range of characters -- matching any single character within the range. We'll use `[a-z]` to show how `[a-z]` can match any lowercase alphabetic character between 'a' and 'z'. This means that`[0-9]` can match any digit character between '0' and '9'. \n",
    "\n",
    "~~~python \n",
    "re.search('[a-z]', 'C0d3bar')\n",
    "output: <re.Match object; span=(2, 3), match='d'>\n",
    "~~~\n",
    "\n",
    "Let's create a more complex character class \n",
    "~~~python\n",
    "re.search('[0-9a-fA-f]', '--- a0 ---') #PLAY AROUND WITH THIS\n",
    "<re.Match object; span=(4, 5), match='a'>\n",
    "~~~ \n",
    "\n",
    "The `[0-9a-fA-F]` expression matches the first [hexadecimal](https://www.lifewire.com/what-is-hexadecimal-2625897) digit character in the search string, which is 'a'.\n",
    "\n",
    "**Note**: Regular expressions return values always from the leftmost possible match. For example, `re.search()` will scans any search string from left to right, and as soon as it locates a match for `<regex>`, it stops scanning and returns the match.\n",
    "\n",
    "#### Complimenting character classes using `^`\n",
    "\n",
    "If `^` is the first character in a character class then it will match any character that **is not** in the set. For example, if we use the following character sequence `[^0-9]` any characters that are not a digit will be returned.\n",
    "\n",
    "~~~python\n",
    "re.search('[^0-9]', '12345code')\n",
    "output: <re.Match object; span=(5, 6), match='c'>\n",
    "~~~\n",
    "The first character in the string that isn’t a digit is 'c'.\n",
    "\n",
    "**Note**: if `^` is not the first character in a character class, then it has no special meaning and matches only a **literal** `^` character (see below).\n",
    "~~~python\n",
    "re.search('[#:^]', 'code^bats:baz')\n",
    "output: <re.Match object; span=(4, 5), match='^'>\n",
    "~~~"
   ]
  },
  {
   "cell_type": "markdown",
   "id": "1ec94ae2-ca37-4c4c-bb60-7e31eb554fae",
   "metadata": {},
   "source": [
    "### Practice 3"
   ]
  },
  {
   "cell_type": "code",
   "execution_count": null,
   "id": "304c8031-951e-482c-9ac3-d771baa49ea2",
   "metadata": {},
   "outputs": [],
   "source": [
    "# try these two on your own!\n",
    "string = \"The quick brown fox jumps over the lazy dog.\"\n",
    "\n",
    "re.search('q[\\w]ck', string)"
   ]
  },
  {
   "cell_type": "code",
   "execution_count": null,
   "id": "819f4104-83b5-4277-8c0e-eadac5ac616f",
   "metadata": {},
   "outputs": [],
   "source": [
    "re.search('[^aeiou]', string)"
   ]
  },
  {
   "cell_type": "markdown",
   "id": "1595eea0-8146-4c7c-9af1-427359ce0225",
   "metadata": {},
   "source": [
    "#### Match metacharacters literally\n",
    "When using metacharacters you should think about 1.) whether you want to use the character's special meaning to match or 2.) to match metacharacters literally. In some cases, to match a metachracters literally, you may need to escape them with a backslash `(\\)`. \n",
    "\n",
    "Take the following, for example, if you want to use a `]` then you'll have to escape it with a backslash `(\\)`.\n",
    "\n",
    "~~~python\n",
    "re.search('[]]', 'code[1]')\n",
    "output: <re.Match object; span=(6, 7), match=']'>\n",
    "\n",
    "\n",
    "re.search('[ab\\]cd]', 'code[1]')\n",
    "output: <re.Match object; span=(0, 1), match='c'>\n",
    "~~~"
   ]
  },
  {
   "cell_type": "markdown",
   "id": "4c827bf3-da0b-4dc9-9c31-c0c5091a9675",
   "metadata": {},
   "source": [
    "### Practice 4"
   ]
  },
  {
   "cell_type": "code",
   "execution_count": null,
   "id": "fad3f6b4-f34b-40d9-9cf7-8367eed3f7fd",
   "metadata": {},
   "outputs": [],
   "source": [
    "### Try on your own!\n",
    "string = \"The quick brown fox jumps over the lazy dog.\"\n",
    "\n",
    "re.search('\\$', string)"
   ]
  },
  {
   "cell_type": "markdown",
   "id": "d3252737-982d-4e4a-a23f-3b1bb6395f11",
   "metadata": {
    "tags": []
   },
   "source": [
    "#### Match any word characters\n",
    "`\\w` matches any alphanumeric word character such as uppercase and lowercase letters, digits, and underscore (_) characters.`\\w` is shorthand for `[a-zA-Z0-9_]`, so the output will be the same if using the longer version `[a-zA-Z0-9_].`\n",
    "\n",
    "~~~python\n",
    "#short version\n",
    "re.search('\\w', '#(.a$@&')\n",
    "output: <re.Match object; span=(3, 4), match='a'>\n",
    "\n",
    "\n",
    "#long version \n",
    "re.search('[a-zA-Z0-9_]', '#(.a$@&')\n",
    "output: <re.Match object; span=(3, 4), match='a'>\n",
    "~~~\n",
    "\n",
    "#### Match non-word characters\n",
    "`\\W` is the opposite of `\\w`. `\\W` will match any **non-word** character. The`[^a-zA-Z0-9_]`is the equivalent long version of `\\W`\n",
    "\n",
    "~~~python\n",
    "re.search('\\W', '#(.a$@&')\n",
    "output: <re.Match object; span=(0, 1), match='#'>\n",
    "~~~ \n",
    "\n",
    "#### Match any whitespace characters\n",
    "Unlike the dot `.` wildcard metacharacter, `\\s` matches any whitespace character\n",
    "~~~python\n",
    "re.search('\\s', 'code\\nfun bats')\n",
    "output: <re.Match object; span=(4, 5), match='\\n'>\n",
    "~~~\n",
    "\n",
    "The opposite of `\\s` is `\\S` and will match any character that **is not** a whitespace. See the example below. \n",
    "\n",
    "~~~python\n",
    "re.search('\\S', '  \\n code  \\n  ')\n",
    "output: <re.Match object; span=(4, 5), match='c'>\n",
    "~~~"
   ]
  },
  {
   "cell_type": "markdown",
   "id": "2a181560-a49f-4d2f-a6cd-2ee39dfd2bdc",
   "metadata": {},
   "source": [
    "### Practice 5"
   ]
  },
  {
   "cell_type": "code",
   "execution_count": null,
   "id": "06e3eefd-740c-4e6c-b842-26fdfef7b845",
   "metadata": {},
   "outputs": [],
   "source": [
    "### Try out these two on your own!\n",
    "string = \"The quick brown fox jumps over the lazy dog.\"\n",
    "\n",
    "re.search('\\w', string)\n",
    "re.search('\\W', string)"
   ]
  },
  {
   "cell_type": "markdown",
   "id": "027d645c-63dc-4821-b177-52dc554030dd",
   "metadata": {
    "tags": []
   },
   "source": [
    "#### Match any digital characters\n",
    "`\\d` will match any decimal digit character and is equivalent to `[0-9]`. The opposite of `\\d` is `\\D` and matches any character that **is not** a decimal digit\n",
    "\n",
    "~~~python\n",
    "re.search('\\d', 'abc4def')\n",
    "output: <re.Match object; span=(3, 4), match='4'>\n",
    "~~~"
   ]
  },
  {
   "cell_type": "markdown",
   "id": "a491001c-c7b6-44a9-b02b-3f386986bcbb",
   "metadata": {},
   "source": [
    "### Practice 6"
   ]
  },
  {
   "cell_type": "code",
   "execution_count": null,
   "id": "972f38ed-6a18-42b1-97da-bbd41353c56d",
   "metadata": {},
   "outputs": [],
   "source": [
    "# Give it a try!\n",
    "string = \"The quick brown fox jumps over the lazy dog.\"\n",
    "\n",
    "re.search('\\d', string)\n",
    "re.search('\\D', string)\n",
    "re.search('\\D+', string) #matches all word characters "
   ]
  },
  {
   "cell_type": "markdown",
   "id": "6b9921cd-e199-45d5-97f7-e431a72554f6",
   "metadata": {},
   "source": [
    "## Additional Metacharacters supported by `re.` \n",
    "\n",
    "- **<kbd>.</kbd>**: Matches any single character except newline <br>\n",
    "- **<kbd>^</kbd>**: Anchors a match at the start of a string **AND** Complements a character class <br>\n",
    "- **<kbd>$</kbd>**: Anchors a match at the end of a string<br>\n",
    "- **<kbd>*</kbd>**: Matches zero or more repetitions<br>\n",
    "- **<kbd>+</kbd>**: Matches one or more repetitions<br>\n",
    "- **<kbd>?</kbd>**: Matches zero or one repetition **AND** Specifies the non-greedy versions of *, +, and ? **AND** Introduces a lookahead or lookbehind assertion **AND** Creates a named group<br>\n",
    "- **<kbd>{}</kbd>**: Matches an explicitly specified number of repetitions<br>\n",
    "- **<kbd>`\\`</kbd>**: Escapes a metacharacter of its special meaning **AND** Introduces a special character class **AND** Introduces a grouping backreference<br>\n",
    "- **<kbd>[]</kbd>**: Specifies a character class<br>\n",
    "- **<kbd>|</kbd>**: Designates alternation<br>\n",
    "- **<kbd>()</kbd>**: Creates a group<br>\n",
    "- **<kbd>:</kbd>**: Designate a specialized group<br>\n",
    "- **<kbd>#</kbd>**: Designate a specialized group<br>\n",
    "- **<kbd>=</kbd>**: Designate a specialized group<br>\n",
    "- **<kbd>!</kbd>**: Designate a specialized group<br>\n",
    "- **<kbd>`<>`</kbd>**:Creates a named group<br>"
   ]
  },
  {
   "cell_type": "markdown",
   "id": "77f765a4-3126-4ddb-b1e9-84b8a47ec622",
   "metadata": {},
   "source": [
    "## Until next time! \n",
    "\n",
    "There is so a lot to regular expressions that is not covered in this introduction workshop such as escaping metacharacters, anchors, using quantifiers, grouping constructs and backreferences, lookahead and lookbehind assertions, and much much more. \n",
    "\n",
    "#### Reach out to me with questions! \n",
    "Email: lbeltran@andrew.cmu.edu <br>\n",
    "Get coding help by scheduling a consultation by visiting the [Data & Code Support](https://www.library.cmu.edu/service/data-code-support) page.  "
   ]
  },
  {
   "cell_type": "code",
   "execution_count": null,
   "id": "0b8d4dba-6870-48b3-ae88-03caca9932d8",
   "metadata": {},
   "outputs": [],
   "source": []
  }
 ],
 "metadata": {
  "kernelspec": {
   "display_name": "Python 3 (ipykernel)",
   "language": "python",
   "name": "python3"
  },
  "language_info": {
   "codemirror_mode": {
    "name": "ipython",
    "version": 3
   },
   "file_extension": ".py",
   "mimetype": "text/x-python",
   "name": "python",
   "nbconvert_exporter": "python",
   "pygments_lexer": "ipython3",
   "version": "3.9.12"
  }
 },
 "nbformat": 4,
 "nbformat_minor": 5
}
